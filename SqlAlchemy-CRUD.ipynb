{
 "cells": [
  {
   "cell_type": "markdown",
   "id": "b0eb0287",
   "metadata": {},
   "source": [
    "## Import Libraries"
   ]
  },
  {
   "cell_type": "code",
   "execution_count": null,
   "id": "14455b35",
   "metadata": {},
   "outputs": [],
   "source": [
    "import sqlalchemy as db\n",
    "import pandas as pd"
   ]
  },
  {
   "cell_type": "markdown",
   "id": "b2ec00b7",
   "metadata": {},
   "source": [
    "## Creat and Connect DB"
   ]
  },
  {
   "cell_type": "code",
   "execution_count": null,
   "id": "b04590d5",
   "metadata": {},
   "outputs": [],
   "source": [
    "engine = db.create_engine('sqlite:///database_test.db')\n",
    "connection = engine.connect()\n",
    "metadata = db.MetaData()"
   ]
  },
  {
   "cell_type": "markdown",
   "id": "d1c9ff43",
   "metadata": {},
   "source": [
    "## Create Table"
   ]
  },
  {
   "cell_type": "code",
   "execution_count": null,
   "id": "d050a646",
   "metadata": {},
   "outputs": [],
   "source": [
    "emp = db.Table('emp', metadata,\n",
    "              db.Column('Id', db.Integer()),\n",
    "              db.Column('name', db.String(255), nullable=False),\n",
    "              db.Column('salary', db.Float(), default=100.0),\n",
    "              db.Column('active', db.Boolean(), default=True)\n",
    "              )\n",
    "\n",
    "metadata.create_all(engine) #Creates the table"
   ]
  },
  {
   "cell_type": "code",
   "execution_count": null,
   "id": "e1440c52",
   "metadata": {},
   "outputs": [],
   "source": [
    "# Load Table into object\n",
    "users_rows = db.Table('emp', metadata, autoload=True, autoload_with=engine)"
   ]
  },
  {
   "cell_type": "code",
   "execution_count": null,
   "id": "d7a7f65e",
   "metadata": {},
   "outputs": [],
   "source": [
    "# Print the column names\n",
    "print(users_rows.columns.keys())"
   ]
  },
  {
   "cell_type": "markdown",
   "id": "8b721146",
   "metadata": {},
   "source": [
    "## Add a User"
   ]
  },
  {
   "cell_type": "code",
   "execution_count": null,
   "id": "d922edd0",
   "metadata": {},
   "outputs": [],
   "source": [
    "#Inserting many records at ones\n",
    "query = db.insert(emp) \n",
    "values_list = [{'Id':'2', 'name':'Jared', 'salary':80000, 'active':True},\n",
    "               {'Id':'6', 'name':'Janett', 'salary':70000, 'active':False}]\n",
    "ResultProxy = connection.execute(query,values_list)"
   ]
  },
  {
   "cell_type": "markdown",
   "id": "170ee6fe",
   "metadata": {},
   "source": [
    "## GET DB Rows"
   ]
  },
  {
   "cell_type": "code",
   "execution_count": null,
   "id": "ef4764f0",
   "metadata": {},
   "outputs": [],
   "source": [
    "results = connection.execute(db.select([users_rows])).fetchall()\n",
    "df = pd.DataFrame(results)\n",
    "df.columns = results[0].keys()\n",
    "df.head()"
   ]
  },
  {
   "cell_type": "code",
   "execution_count": null,
   "id": "783806a9",
   "metadata": {},
   "outputs": [],
   "source": [
    "results = connection.execute(db.select([users_rows])).fetchall()\n",
    "df = pd.DataFrame(results)\n",
    "df.columns = results[0].keys()\n",
    "df.head()"
   ]
  },
  {
   "cell_type": "markdown",
   "id": "3cd9ec62",
   "metadata": {},
   "source": [
    "## Update a User"
   ]
  },
  {
   "cell_type": "code",
   "execution_count": null,
   "id": "f46b005c",
   "metadata": {},
   "outputs": [],
   "source": [
    "# Update a User\n",
    "query = db.update(users_rows).values(name = 'James')\n",
    "query = query.where(users_rows.columns.Id == 1)\n",
    "results = connection.execute(query)\n"
   ]
  },
  {
   "cell_type": "code",
   "execution_count": null,
   "id": "9176127e",
   "metadata": {},
   "outputs": [],
   "source": [
    "results = connection.execute(db.select([users_rows])).fetchall()\n",
    "df = pd.DataFrame(results)\n",
    "df.columns = results[0].keys()\n",
    "df.head()"
   ]
  },
  {
   "cell_type": "markdown",
   "id": "39c0733b",
   "metadata": {},
   "source": [
    "## Deleting a User"
   ]
  },
  {
   "cell_type": "code",
   "execution_count": null,
   "id": "c1fea9d2",
   "metadata": {},
   "outputs": [],
   "source": [
    "# Delete a User\n",
    "query = db.delete(users_rows)\n",
    "query = query.where(users_rows.columns.Id == 2)\n",
    "#Uncomment Below to execute\n",
    "results = connection.execute(query)"
   ]
  },
  {
   "cell_type": "code",
   "execution_count": null,
   "id": "fe773f86",
   "metadata": {},
   "outputs": [],
   "source": [
    "results = connection.execute(db.select([users_rows])).fetchall()\n",
    "df = pd.DataFrame(results)\n",
    "df.columns = results[0].keys()\n",
    "df.head()"
   ]
  }
 ],
 "metadata": {
  "kernelspec": {
   "display_name": "Python 3",
   "language": "python",
   "name": "python3"
  },
  "language_info": {
   "codemirror_mode": {
    "name": "ipython",
    "version": 3
   },
   "file_extension": ".py",
   "mimetype": "text/x-python",
   "name": "python",
   "nbconvert_exporter": "python",
   "pygments_lexer": "ipython3",
   "version": "3.6.13"
  }
 },
 "nbformat": 4,
 "nbformat_minor": 5
}
